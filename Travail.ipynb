{
 "cells": [
  {
   "cell_type": "markdown",
   "id": "representative-wellington",
   "metadata": {},
   "source": [
    "# Travail final \n",
    "## Moïra Rault-Bélisle"
   ]
  },
  {
   "cell_type": "markdown",
   "id": "elder-steering",
   "metadata": {},
   "source": [
    "### Objectif  \n",
    "Voir si le salaire varie en fonction de deux variables, le sexe et la classe ethnique, selon la base de données income.\n",
    "\n",
    "### Hypothèses  \n",
    "- Le salaire diffère en fonction du sexe.\n",
    "- Le salaire diffère en fonction de l'ethnie. "
   ]
  },
  {
   "cell_type": "markdown",
   "id": "existing-batch",
   "metadata": {},
   "source": [
    "### Importation des modules nécessaires et de la base de données"
   ]
  },
  {
   "cell_type": "code",
   "execution_count": 1,
   "id": "incorporate-affiliation",
   "metadata": {},
   "outputs": [],
   "source": [
    "import pandas as pd\n",
    "import numpy as np\n",
    "import seaborn as sns\n",
    "import scipy\n",
    "from scipy import stats\n",
    "from statsmodels.formula.api import ols\n",
    "import sklearn\n",
    "from sklearn import preprocessing\n",
    "from sklearn.decomposition import PCA\n",
    "%matplotlib inline\n",
    "import matplotlib\n",
    "import matplotlib.pyplot as plt\n",
    "from sklearn.preprocessing import LabelEncoder"
   ]
  },
  {
   "cell_type": "markdown",
   "id": "advanced-anthony",
   "metadata": {},
   "source": [
    "#### Lecture du fichier income.xlsx"
   ]
  },
  {
   "cell_type": "code",
   "execution_count": 2,
   "id": "coated-fundamentals",
   "metadata": {},
   "outputs": [],
   "source": [
    "income = pd.read_excel('C:/Users/Admin/OneDrive - Universite de Montreal/Documents/Université/Hiver 2021/PSY4016/income.xlsx')"
   ]
  },
  {
   "cell_type": "markdown",
   "id": "contemporary-surgery",
   "metadata": {},
   "source": [
    "## Hypothèse 1 "
   ]
  },
  {
   "cell_type": "markdown",
   "id": "direct-checkout",
   "metadata": {},
   "source": [
    "### Encodage de la variable income en integer\n",
    "Choix de la médiance de chaque intervalle (min 0 et max 100 000 pour l'échantillon)"
   ]
  },
  {
   "cell_type": "markdown",
   "id": "generous-bachelor",
   "metadata": {},
   "source": [
    "Encodage de la variable income en premier lieu afin de pouvoir faire des analyses descriptives"
   ]
  },
  {
   "cell_type": "code",
   "execution_count": 3,
   "id": "female-earth",
   "metadata": {},
   "outputs": [],
   "source": [
    "income_final = income.replace(['-10.000)','[10.000-15.000)','[15.000-20.000)','[20.000-25.000)','[25.000-30.000)',\n",
    "                             '[30.000-40.000)','[40.000-50.000)','[50.000-75.000)','[75.000-'],[5000,12500,17500,22500,\n",
    "                                                                                                27500,35000,45000,57500,87500])"
   ]
  },
  {
   "cell_type": "markdown",
   "id": "instant-notification",
   "metadata": {},
   "source": [
    "### Analyses descriptives"
   ]
  },
  {
   "cell_type": "code",
   "execution_count": 4,
   "id": "european-wales",
   "metadata": {
    "scrolled": false
   },
   "outputs": [
    {
     "data": {
      "text/html": [
       "<div>\n",
       "<style scoped>\n",
       "    .dataframe tbody tr th:only-of-type {\n",
       "        vertical-align: middle;\n",
       "    }\n",
       "\n",
       "    .dataframe tbody tr th {\n",
       "        vertical-align: top;\n",
       "    }\n",
       "\n",
       "    .dataframe thead th {\n",
       "        text-align: right;\n",
       "    }\n",
       "</style>\n",
       "<table border=\"1\" class=\"dataframe\">\n",
       "  <thead>\n",
       "    <tr style=\"text-align: right;\">\n",
       "      <th></th>\n",
       "      <th>Unnamed: 0</th>\n",
       "      <th>INCOME</th>\n",
       "    </tr>\n",
       "  </thead>\n",
       "  <tbody>\n",
       "    <tr>\n",
       "      <th>count</th>\n",
       "      <td>8993.000000</td>\n",
       "      <td>8993.000000</td>\n",
       "    </tr>\n",
       "    <tr>\n",
       "      <th>mean</th>\n",
       "      <td>4496.000000</td>\n",
       "      <td>33720.393639</td>\n",
       "    </tr>\n",
       "    <tr>\n",
       "      <th>std</th>\n",
       "      <td>2596.199819</td>\n",
       "      <td>24766.775067</td>\n",
       "    </tr>\n",
       "    <tr>\n",
       "      <th>min</th>\n",
       "      <td>0.000000</td>\n",
       "      <td>5000.000000</td>\n",
       "    </tr>\n",
       "    <tr>\n",
       "      <th>25%</th>\n",
       "      <td>2248.000000</td>\n",
       "      <td>12500.000000</td>\n",
       "    </tr>\n",
       "    <tr>\n",
       "      <th>50%</th>\n",
       "      <td>4496.000000</td>\n",
       "      <td>27500.000000</td>\n",
       "    </tr>\n",
       "    <tr>\n",
       "      <th>75%</th>\n",
       "      <td>6744.000000</td>\n",
       "      <td>45000.000000</td>\n",
       "    </tr>\n",
       "    <tr>\n",
       "      <th>max</th>\n",
       "      <td>8992.000000</td>\n",
       "      <td>87500.000000</td>\n",
       "    </tr>\n",
       "  </tbody>\n",
       "</table>\n",
       "</div>"
      ],
      "text/plain": [
       "        Unnamed: 0        INCOME\n",
       "count  8993.000000   8993.000000\n",
       "mean   4496.000000  33720.393639\n",
       "std    2596.199819  24766.775067\n",
       "min       0.000000   5000.000000\n",
       "25%    2248.000000  12500.000000\n",
       "50%    4496.000000  27500.000000\n",
       "75%    6744.000000  45000.000000\n",
       "max    8992.000000  87500.000000"
      ]
     },
     "execution_count": 4,
     "metadata": {},
     "output_type": "execute_result"
    }
   ],
   "source": [
    "income_final.describe()"
   ]
  },
  {
   "cell_type": "code",
   "execution_count": 5,
   "id": "adult-wireless",
   "metadata": {
    "scrolled": true
   },
   "outputs": [
    {
     "data": {
      "text/plain": [
       "<AxesSubplot:xlabel='INCOME', ylabel='Count'>"
      ]
     },
     "execution_count": 5,
     "metadata": {},
     "output_type": "execute_result"
    },
    {
     "data": {
      "image/png": "[encoded data removed]",
      "text/plain": [
       "<Figure size 432x288 with 1 Axes>"
      ]
     },
     "metadata": {
      "needs_background": "light"
     },
     "output_type": "display_data"
    }
   ],
   "source": [
    "sns.histplot(data = income_final, x = 'INCOME', hue = \"SEX\")"
   ]
  },
  {
   "cell_type": "code",
   "execution_count": 6,
   "id": "happy-sense",
   "metadata": {},
   "outputs": [
    {
     "data": {
      "text/plain": [
       "<seaborn.axisgrid.PairGrid at 0x1fd11df2460>"
      ]
     },
     "execution_count": 6,
     "metadata": {},
     "output_type": "execute_result"
    },
    {
     "data": {
      "image/png": "[encoded data removed]",
      "text/plain": [
       "<Figure size 224.625x180 with 2 Axes>"
      ]
     },
     "metadata": {
      "needs_background": "light"
     },
     "output_type": "display_data"
    }
   ],
   "source": [
    "sns.pairplot(income_final, vars=['INCOME'],\n",
    "                  kind='reg', hue='SEX')"
   ]
  },
  {
   "cell_type": "markdown",
   "id": "certain-february",
   "metadata": {},
   "source": [
    "### Prétraitement des données"
   ]
  },
  {
   "cell_type": "markdown",
   "id": "excess-upper",
   "metadata": {},
   "source": [
    "#### Encodage d'étiquettes"
   ]
  },
  {
   "cell_type": "markdown",
   "id": "smooth-miller",
   "metadata": {},
   "source": [
    "La variable income a été transformée plus haut. "
   ]
  },
  {
   "cell_type": "markdown",
   "id": "material-flavor",
   "metadata": {},
   "source": [
    "##### Encodage de la variable sex en variable binaire"
   ]
  },
  {
   "cell_type": "code",
   "execution_count": 7,
   "id": "patient-graham",
   "metadata": {},
   "outputs": [],
   "source": [
    "le = preprocessing.LabelEncoder()"
   ]
  },
  {
   "cell_type": "code",
   "execution_count": 8,
   "id": "fleet-tactics",
   "metadata": {},
   "outputs": [
    {
     "data": {
      "text/plain": [
       "LabelEncoder()"
      ]
     },
     "execution_count": 8,
     "metadata": {},
     "output_type": "execute_result"
    }
   ],
   "source": [
    "le.fit(income_final.SEX)"
   ]
  },
  {
   "cell_type": "code",
   "execution_count": 9,
   "id": "matched-drinking",
   "metadata": {},
   "outputs": [],
   "source": [
    "sex_binaire = le.transform(income_final.SEX)"
   ]
  },
  {
   "cell_type": "code",
   "execution_count": 10,
   "id": "dynamic-things",
   "metadata": {},
   "outputs": [],
   "source": [
    "income_final['SEX'] = sex_binaire"
   ]
  },
  {
   "cell_type": "markdown",
   "id": "funky-singing",
   "metadata": {},
   "source": [
    "#### Normalisation des données"
   ]
  },
  {
   "cell_type": "code",
   "execution_count": 11,
   "id": "tight-sussex",
   "metadata": {
    "scrolled": false
   },
   "outputs": [
    {
     "name": "stdout",
     "output_type": "stream",
     "text": [
      "ShapiroResult(statistic=0.8923608660697937, pvalue=0.0)\n"
     ]
    },
    {
     "name": "stderr",
     "output_type": "stream",
     "text": [
      "C:\\Users\\Admin\\AppData\\Local\\Packages\\PythonSoftwareFoundation.Python.3.9_qbz5n2kfra8p0\\LocalCache\\local-packages\\Python39\\site-packages\\scipy\\stats\\morestats.py:1681: UserWarning: p-value may not be accurate for N > 5000.\n",
      "  warnings.warn(\"p-value may not be accurate for N > 5000.\")\n"
     ]
    }
   ],
   "source": [
    "#Vérification normalité de salaire\n",
    "income_shapiro = stats.shapiro(income_final['INCOME'])\n",
    "print(income_shapiro)"
   ]
  },
  {
   "cell_type": "code",
   "execution_count": 12,
   "id": "sought-cigarette",
   "metadata": {
    "scrolled": true
   },
   "outputs": [],
   "source": [
    "scaler = sklearn.preprocessing.StandardScaler()"
   ]
  },
  {
   "cell_type": "code",
   "execution_count": 13,
   "id": "reduced-seller",
   "metadata": {},
   "outputs": [],
   "source": [
    "X_data = income_final[[\"INCOME\"]]\n",
    "scaled = scaler.fit(X_data)"
   ]
  },
  {
   "cell_type": "code",
   "execution_count": 14,
   "id": "first-winning",
   "metadata": {
    "scrolled": false
   },
   "outputs": [
    {
     "data": {
      "text/plain": [
       "array([[ 2.17156237],\n",
       "       [ 2.17156237],\n",
       "       [ 2.17156237],\n",
       "       ...,\n",
       "       [-1.15969845],\n",
       "       [-0.45306737],\n",
       "       [ 0.05166912]])"
      ]
     },
     "execution_count": 14,
     "metadata": {},
     "output_type": "execute_result"
    }
   ],
   "source": [
    "transformed = scaler.transform(X_data)\n",
    "transformed"
   ]
  },
  {
   "cell_type": "code",
   "execution_count": 15,
   "id": "recovered-stake",
   "metadata": {},
   "outputs": [],
   "source": [
    "income_final['INCOME'] = transformed"
   ]
  },
  {
   "cell_type": "markdown",
   "id": "international-theater",
   "metadata": {},
   "source": [
    "#### Imputation des valeurs manquantes"
   ]
  },
  {
   "cell_type": "code",
   "execution_count": 16,
   "id": "southeast-invasion",
   "metadata": {},
   "outputs": [
    {
     "data": {
      "text/plain": [
       "False"
      ]
     },
     "execution_count": 16,
     "metadata": {},
     "output_type": "execute_result"
    }
   ],
   "source": [
    "income_final['SEX'].isnull().values.any()"
   ]
  },
  {
   "cell_type": "code",
   "execution_count": 17,
   "id": "essential-factory",
   "metadata": {
    "scrolled": true
   },
   "outputs": [
    {
     "data": {
      "text/plain": [
       "False"
      ]
     },
     "execution_count": 17,
     "metadata": {},
     "output_type": "execute_result"
    }
   ],
   "source": [
    "income_final['INCOME'].isnull().values.any()"
   ]
  },
  {
   "cell_type": "markdown",
   "id": "finished-cooper",
   "metadata": {},
   "source": [
    "### Analyses statistiques"
   ]
  },
  {
   "cell_type": "code",
   "execution_count": 18,
   "id": "homeless-fisher",
   "metadata": {},
   "outputs": [
    {
     "data": {
      "text/plain": [
       "Ttest_indResult(statistic=-3.4591910614580033, pvalue=0.0005443128938253274)"
      ]
     },
     "execution_count": 18,
     "metadata": {},
     "output_type": "execute_result"
    }
   ],
   "source": [
    "#Analyses statistiques hypothèse 1\n",
    "femme_income = income_final[income_final['SEX'] == 0]['INCOME']\n",
    "homme_income = income_final[income_final['SEX'] == 1]['INCOME']\n",
    "\n",
    "stats.ttest_ind(femme_income, homme_income)"
   ]
  },
  {
   "cell_type": "markdown",
   "id": "developmental-bachelor",
   "metadata": {},
   "source": [
    "## Hypothèse 2"
   ]
  },
  {
   "cell_type": "markdown",
   "id": "electric-engineering",
   "metadata": {},
   "source": [
    "### Analyses descriptives"
   ]
  },
  {
   "cell_type": "code",
   "execution_count": 19,
   "id": "restricted-arrow",
   "metadata": {},
   "outputs": [
    {
     "data": {
      "text/plain": [
       "[INCOME     ETHNIC.CLASS    \n",
       " -1.159698  American Indian      37.0\n",
       "            Asian               118.0\n",
       "            Black               196.0\n",
       "            East Indian           8.0\n",
       "            Hispanic            335.0\n",
       "                                ...  \n",
       "  2.171562  Black                39.0\n",
       "            Hispanic             30.0\n",
       "            Other                20.0\n",
       "            Pacific Islander     10.0\n",
       "            White               713.0\n",
       " Name: (Unnamed: 0, count), Length: 68, dtype: float64,\n",
       " INCOME     ETHNIC.CLASS    \n",
       " -1.159698  American Indian     4228.972973\n",
       "            Asian               4755.127119\n",
       "            Black               3618.857143\n",
       "            East Indian         4533.875000\n",
       "            Hispanic            4785.800000\n",
       "                                   ...     \n",
       "  2.171562  Black               4109.589744\n",
       "            Hispanic            4942.266667\n",
       "            Other               5651.150000\n",
       "            Pacific Islander    4204.500000\n",
       "            White               4756.844320\n",
       " Name: (Unnamed: 0, mean), Length: 68, dtype: float64,\n",
       " INCOME     ETHNIC.CLASS    \n",
       " -1.159698  American Indian     2652.213860\n",
       "            Asian               2462.399054\n",
       "            Black               2439.459904\n",
       "            East Indian         2508.171869\n",
       "            Hispanic            2104.544831\n",
       "                                   ...     \n",
       "  2.171562  Black               2364.061166\n",
       "            Hispanic            2325.246193\n",
       "            Other               2567.946062\n",
       "            Pacific Islander    1971.620104\n",
       "            White               2783.109723\n",
       " Name: (Unnamed: 0, std), Length: 68, dtype: float64,\n",
       " INCOME     ETHNIC.CLASS    \n",
       " -1.159698  American Indian      311.0\n",
       "            Asian                138.0\n",
       "            Black                147.0\n",
       "            East Indian         1794.0\n",
       "            Hispanic              65.0\n",
       "                                 ...  \n",
       "  2.171562  Black               1034.0\n",
       "            Hispanic              21.0\n",
       "            Other                278.0\n",
       "            Pacific Islander    2336.0\n",
       "            White                  0.0\n",
       " Name: (Unnamed: 0, min), Length: 68, dtype: float64,\n",
       " INCOME     ETHNIC.CLASS    \n",
       " -1.159698  American Indian     1872.00\n",
       "            Asian               2461.25\n",
       "            Black               1644.50\n",
       "            East Indian         2679.25\n",
       "            Hispanic            3242.50\n",
       "                                 ...   \n",
       "  2.171562  Black               1901.00\n",
       "            Hispanic            3567.50\n",
       "            Other               4615.75\n",
       "            Pacific Islander    2737.50\n",
       "            White               2597.00\n",
       " Name: (Unnamed: 0, 25%), Length: 68, dtype: float64,\n",
       " INCOME     ETHNIC.CLASS    \n",
       " -1.159698  American Indian     3935.0\n",
       "            Asian               4555.0\n",
       "            Black               2164.0\n",
       "            East Indian         4370.5\n",
       "            Hispanic            5655.0\n",
       "                                 ...  \n",
       "  2.171562  Black               3584.0\n",
       "            Hispanic            5124.0\n",
       "            Other               6316.0\n",
       "            Pacific Islander    3464.5\n",
       "            White               4926.0\n",
       " Name: (Unnamed: 0, 50%), Length: 68, dtype: float64,\n",
       " INCOME     ETHNIC.CLASS    \n",
       " -1.159698  American Indian     6386.00\n",
       "            Asian               7225.00\n",
       "            Black               5753.50\n",
       "            East Indian         5351.25\n",
       "            Hispanic            6317.00\n",
       "                                 ...   \n",
       "  2.171562  Black               6693.50\n",
       "            Hispanic            6135.50\n",
       "            Other               7558.00\n",
       "            Pacific Islander    5065.00\n",
       "            White               7290.00\n",
       " Name: (Unnamed: 0, 75%), Length: 68, dtype: float64,\n",
       " INCOME     ETHNIC.CLASS    \n",
       " -1.159698  American Indian     8924.0\n",
       "            Asian               8956.0\n",
       "            Black               8812.0\n",
       "            East Indian         8750.0\n",
       "            Hispanic            8967.0\n",
       "                                 ...  \n",
       "  2.171562  Black               8614.0\n",
       "            Hispanic            8961.0\n",
       "            Other               8819.0\n",
       "            Pacific Islander    7712.0\n",
       "            White               8987.0\n",
       " Name: (Unnamed: 0, max), Length: 68, dtype: float64,\n",
       " INCOME     ETHNIC.CLASS    \n",
       " -1.159698  American Indian      37.0\n",
       "            Asian               118.0\n",
       "            Black               196.0\n",
       "            East Indian           8.0\n",
       "            Hispanic            335.0\n",
       "                                ...  \n",
       "  2.171562  Black                39.0\n",
       "            Hispanic             30.0\n",
       "            Other                20.0\n",
       "            Pacific Islander     10.0\n",
       "            White               713.0\n",
       " Name: (SEX, count), Length: 68, dtype: float64,\n",
       " INCOME     ETHNIC.CLASS    \n",
       " -1.159698  American Indian     0.459459\n",
       "            Asian               0.406780\n",
       "            Black               0.443878\n",
       "            East Indian         0.625000\n",
       "            Hispanic            0.361194\n",
       "                                  ...   \n",
       "  2.171562  Black               0.666667\n",
       "            Hispanic            0.566667\n",
       "            Other               0.750000\n",
       "            Pacific Islander    0.600000\n",
       "            White               0.468443\n",
       " Name: (SEX, mean), Length: 68, dtype: float64,\n",
       " INCOME     ETHNIC.CLASS    \n",
       " -1.159698  American Indian     0.505228\n",
       "            Asian               0.493328\n",
       "            Black               0.498113\n",
       "            East Indian         0.517549\n",
       "            Hispanic            0.481065\n",
       "                                  ...   \n",
       "  2.171562  Black               0.477567\n",
       "            Hispanic            0.504007\n",
       "            Other               0.444262\n",
       "            Pacific Islander    0.516398\n",
       "            White               0.499353\n",
       " Name: (SEX, std), Length: 68, dtype: float64,\n",
       " INCOME     ETHNIC.CLASS    \n",
       " -1.159698  American Indian     0.0\n",
       "            Asian               0.0\n",
       "            Black               0.0\n",
       "            East Indian         0.0\n",
       "            Hispanic            0.0\n",
       "                               ... \n",
       "  2.171562  Black               0.0\n",
       "            Hispanic            0.0\n",
       "            Other               0.0\n",
       "            Pacific Islander    0.0\n",
       "            White               0.0\n",
       " Name: (SEX, min), Length: 68, dtype: float64,\n",
       " INCOME     ETHNIC.CLASS    \n",
       " -1.159698  American Indian     0.00\n",
       "            Asian               0.00\n",
       "            Black               0.00\n",
       "            East Indian         0.00\n",
       "            Hispanic            0.00\n",
       "                                ... \n",
       "  2.171562  Black               0.00\n",
       "            Hispanic            0.00\n",
       "            Other               0.75\n",
       "            Pacific Islander    0.00\n",
       "            White               0.00\n",
       " Name: (SEX, 25%), Length: 68, dtype: float64,\n",
       " INCOME     ETHNIC.CLASS    \n",
       " -1.159698  American Indian     0.0\n",
       "            Asian               0.0\n",
       "            Black               0.0\n",
       "            East Indian         1.0\n",
       "            Hispanic            0.0\n",
       "                               ... \n",
       "  2.171562  Black               1.0\n",
       "            Hispanic            1.0\n",
       "            Other               1.0\n",
       "            Pacific Islander    1.0\n",
       "            White               0.0\n",
       " Name: (SEX, 50%), Length: 68, dtype: float64,\n",
       " INCOME     ETHNIC.CLASS    \n",
       " -1.159698  American Indian     1.0\n",
       "            Asian               1.0\n",
       "            Black               1.0\n",
       "            East Indian         1.0\n",
       "            Hispanic            1.0\n",
       "                               ... \n",
       "  2.171562  Black               1.0\n",
       "            Hispanic            1.0\n",
       "            Other               1.0\n",
       "            Pacific Islander    1.0\n",
       "            White               1.0\n",
       " Name: (SEX, 75%), Length: 68, dtype: float64,\n",
       " INCOME     ETHNIC.CLASS    \n",
       " -1.159698  American Indian     1.0\n",
       "            Asian               1.0\n",
       "            Black               1.0\n",
       "            East Indian         1.0\n",
       "            Hispanic            1.0\n",
       "                               ... \n",
       "  2.171562  Black               1.0\n",
       "            Hispanic            1.0\n",
       "            Other               1.0\n",
       "            Pacific Islander    1.0\n",
       "            White               1.0\n",
       " Name: (SEX, max), Length: 68, dtype: float64]"
      ]
     },
     "execution_count": 19,
     "metadata": {},
     "output_type": "execute_result"
    }
   ],
   "source": [
    "#Analyses descriptives hypothèse 2\n",
    "income_eth = income_final.groupby(['INCOME', 'ETHNIC.CLASS']).describe()\n",
    "descr = []\n",
    "for valeur in income_eth:\n",
    "    descr.append(income_eth[valeur])\n",
    "descr"
   ]
  },
  {
   "cell_type": "code",
   "execution_count": 20,
   "id": "authorized-clothing",
   "metadata": {
    "scrolled": false
   },
   "outputs": [
    {
     "data": {
      "text/plain": [
       "<AxesSubplot:xlabel='INCOME', ylabel='Count'>"
      ]
     },
     "execution_count": 20,
     "metadata": {},
     "output_type": "execute_result"
    },
    {
     "data": {
      "image/png": "[encoded data removed]",
      "text/plain": [
       "<Figure size 1440x1440 with 1 Axes>"
      ]
     },
     "metadata": {
      "needs_background": "light"
     },
     "output_type": "display_data"
    }
   ],
   "source": [
    "fig_dims = (20,20)\n",
    "fig, ax = plt.subplots(figsize=fig_dims)\n",
    "sns.histplot(data = income_final, x = 'INCOME', hue = \"ETHNIC.CLASS\", ax=ax)"
   ]
  },
  {
   "cell_type": "code",
   "execution_count": 21,
   "id": "psychological-concern",
   "metadata": {},
   "outputs": [
    {
     "data": {
      "text/plain": [
       "<seaborn.axisgrid.PairGrid at 0x1fd11d20fa0>"
      ]
     },
     "execution_count": 21,
     "metadata": {},
     "output_type": "execute_result"
    },
    {
     "data": {
      "image/png": "[encoded data removed]",
      "text/plain": [
       "<Figure size 549.75x432 with 12 Axes>"
      ]
     },
     "metadata": {
      "needs_background": "light"
     },
     "output_type": "display_data"
    }
   ],
   "source": [
    "sns.pairplot(income_final, hue='ETHNIC.CLASS', height=2)"
   ]
  },
  {
   "cell_type": "markdown",
   "id": "expressed-chocolate",
   "metadata": {},
   "source": [
    "### Prétraitement des données"
   ]
  },
  {
   "cell_type": "markdown",
   "id": "medieval-tenant",
   "metadata": {},
   "source": [
    "#### Encodage de données"
   ]
  },
  {
   "cell_type": "markdown",
   "id": "hollywood-queens",
   "metadata": {},
   "source": [
    "L'encodage de données et la normalisation ont déjà été faites pour la variable income.\n",
    "\n",
    "##### Encodage pour la variable classe ethnique"
   ]
  },
  {
   "cell_type": "code",
   "execution_count": 22,
   "id": "otherwise-scanning",
   "metadata": {},
   "outputs": [],
   "source": [
    "income_final = income_final.rename(columns={'ETHNIC.CLASS': 'ETH'})"
   ]
  },
  {
   "cell_type": "code",
   "execution_count": 23,
   "id": "sought-substance",
   "metadata": {},
   "outputs": [
    {
     "data": {
      "text/plain": [
       "LabelEncoder()"
      ]
     },
     "execution_count": 23,
     "metadata": {},
     "output_type": "execute_result"
    }
   ],
   "source": [
    "le.fit(income_final.ETH)"
   ]
  },
  {
   "cell_type": "code",
   "execution_count": 24,
   "id": "faced-horse",
   "metadata": {},
   "outputs": [],
   "source": [
    "ETH_norm = le.transform(income_final.ETH)"
   ]
  },
  {
   "cell_type": "code",
   "execution_count": 25,
   "id": "domestic-latest",
   "metadata": {},
   "outputs": [],
   "source": [
    "income_final['ETH'] = ETH_norm"
   ]
  },
  {
   "cell_type": "markdown",
   "id": "loaded-rochester",
   "metadata": {},
   "source": [
    "#### Imputation des valeurs manquantes"
   ]
  },
  {
   "cell_type": "code",
   "execution_count": 26,
   "id": "respected-arbitration",
   "metadata": {},
   "outputs": [
    {
     "data": {
      "text/plain": [
       "False"
      ]
     },
     "execution_count": 26,
     "metadata": {},
     "output_type": "execute_result"
    }
   ],
   "source": [
    "income_final['ETH'].isnull().values.any()"
   ]
  },
  {
   "cell_type": "markdown",
   "id": "functioning-chamber",
   "metadata": {},
   "source": [
    "### Analyses statistiques"
   ]
  },
  {
   "cell_type": "code",
   "execution_count": 27,
   "id": "worldwide-tissue",
   "metadata": {},
   "outputs": [
    {
     "data": {
      "text/plain": [
       "Intercept    5.586456\n",
       "INCOME       0.276277\n",
       "dtype: float64"
      ]
     },
     "execution_count": 27,
     "metadata": {},
     "output_type": "execute_result"
    }
   ],
   "source": [
    "#Analyses statistiques hypothèse 2\n",
    "model = ols('ETH ~ INCOME', income_final).fit()\n",
    "\n",
    "model.params"
   ]
  },
  {
   "cell_type": "code",
   "execution_count": 28,
   "id": "absent-reliance",
   "metadata": {},
   "outputs": [
    {
     "name": "stdout",
     "output_type": "stream",
     "text": [
      "                            OLS Regression Results                            \n",
      "==============================================================================\n",
      "Dep. Variable:                    ETH   R-squared:                       0.016\n",
      "Model:                            OLS   Adj. R-squared:                  0.016\n",
      "Method:                 Least Squares   F-statistic:                     150.3\n",
      "Date:                Mon, 26 Apr 2021   Prob (F-statistic):           2.76e-34\n",
      "Time:                        20:24:12   Log-Likelihood:                -19588.\n",
      "No. Observations:                8993   AIC:                         3.918e+04\n",
      "Df Residuals:                    8991   BIC:                         3.919e+04\n",
      "Df Model:                           1                                         \n",
      "Covariance Type:            nonrobust                                         \n",
      "==============================================================================\n",
      "                 coef    std err          t      P>|t|      [0.025      0.975]\n",
      "------------------------------------------------------------------------------\n",
      "Intercept      5.5865      0.023    247.920      0.000       5.542       5.631\n",
      "INCOME         0.2763      0.023     12.261      0.000       0.232       0.320\n",
      "==============================================================================\n",
      "Omnibus:                     1285.271   Durbin-Watson:                   1.386\n",
      "Prob(Omnibus):                  0.000   Jarque-Bera (JB):             1927.634\n",
      "Skew:                          -1.133   Prob(JB):                         0.00\n",
      "Kurtosis:                       2.888   Cond. No.                         1.00\n",
      "==============================================================================\n",
      "\n",
      "Notes:\n",
      "[1] Standard Errors assume that the covariance matrix of the errors is correctly specified.\n"
     ]
    }
   ],
   "source": [
    "print(model.summary())"
   ]
  },
  {
   "cell_type": "markdown",
   "id": "worse-office",
   "metadata": {},
   "source": [
    "## Apprentissage supervisé"
   ]
  },
  {
   "cell_type": "markdown",
   "id": "floppy-cornell",
   "metadata": {},
   "source": [
    "Utilisation de l'analyse discriminante linéaire (ADL) "
   ]
  },
  {
   "cell_type": "markdown",
   "id": "greek-reason",
   "metadata": {},
   "source": [
    "### Étape 1: Calcul des vecteurs moyens de dimension d\n",
    "\n",
    "Calculer les vecteurs moyens d-dimensionnels pour les différentes classes de l'ensemble de données."
   ]
  },
  {
   "cell_type": "code",
   "execution_count": 29,
   "id": "revised-johns",
   "metadata": {},
   "outputs": [],
   "source": [
    "sex = income_final['SEX'].values\n",
    "ethn = income_final['ETH'].values\n",
    "income_sex_eth = pd.DataFrame(columns = ['SEX','ETH'], index=income_final['INCOME'])\n",
    "income_sex_eth['SEX'] = sex\n",
    "income_sex_eth['ETH'] = ethn"
   ]
  },
  {
   "cell_type": "code",
   "execution_count": 30,
   "id": "described-response",
   "metadata": {},
   "outputs": [],
   "source": [
    "x = np.array(income_sex_eth.iloc[:, 0:2])\n",
    "y = income_final['INCOME'].values\n",
    "\n",
    "enc = LabelEncoder()\n",
    "label_encoder = enc.fit(y)\n",
    "y = label_encoder.transform(y) + 1"
   ]
  },
  {
   "cell_type": "code",
   "execution_count": 31,
   "id": "indonesian-peace",
   "metadata": {},
   "outputs": [
    {
     "data": {
      "image/png": "[encoded data removed]",
      "text/plain": [
       "<Figure size 864x432 with 2 Axes>"
      ]
     },
     "metadata": {
      "needs_background": "light"
     },
     "output_type": "display_data"
    }
   ],
   "source": [
    "feature_dict = {i:label for i,label in zip(\n",
    "                range(2),\n",
    "                  ('Sexe',\n",
    "                  'Classe ethnique'))}\n",
    "label_dict = {1 : 5000, 2: 12500, 3: 17500, 4: 22500, 5: 27500, 6: 35000, 7: 45000, 8:57500, 9:87500}\n",
    "\n",
    "fig, axes = plt.subplots(nrows=1, ncols=2, figsize=(12,6))\n",
    "\n",
    "import math\n",
    "for ax,cnt in zip(axes.ravel(), range(2)):  \n",
    "\n",
    "    # set bin sizes\n",
    "    min_b = math.floor(np.min(x[:,cnt]))\n",
    "    max_b = math.ceil(np.max(x[:,cnt]))\n",
    "    bins = np.linspace(min_b, max_b, 25)\n",
    "\n",
    "    # plottling the histograms\n",
    "    for lab,col in zip(range(1,10), ('yellow', 'orange', 'red', 'pink', 'green', 'blue','navy', 'purple', 'black')):\n",
    "        ax.hist(x[y==lab, cnt],\n",
    "                   color=col,\n",
    "                   label= label_dict[lab],\n",
    "                   bins=bins,\n",
    "                   alpha=0.5,)\n",
    "    ylims = ax.get_ylim()\n",
    "\n",
    "    # plot annotation\n",
    "    leg = ax.legend(loc='upper right', fancybox=True, fontsize=9)\n",
    "    leg.get_frame().set_alpha(0.5)\n",
    "    ax.set_ylim([0, max(ylims)+2])\n",
    "    ax.set_xlabel(feature_dict[cnt])\n",
    "    ax.set_title('Income histogram #%s' %str(cnt+1))\n",
    "\n",
    "    # hide axis ticks\n",
    "    ax.tick_params(axis=\"both\", which=\"both\", bottom=\"off\", top=\"off\",  \n",
    "            labelbottom=\"on\", left=\"off\", right=\"off\", labelleft=\"on\")\n",
    "\n",
    "    # remove axis spines\n",
    "    ax.spines[\"top\"].set_visible(False)  \n",
    "    ax.spines[\"right\"].set_visible(False)\n",
    "    ax.spines[\"bottom\"].set_visible(False)\n",
    "    ax.spines[\"left\"].set_visible(False)    \n",
    "\n",
    "axes[0].set_ylabel('count')\n",
    "\n",
    "fig.tight_layout()       \n",
    "\n",
    "plt.show()"
   ]
  },
  {
   "cell_type": "code",
   "execution_count": 32,
   "id": "automatic-fault",
   "metadata": {},
   "outputs": [
    {
     "name": "stdout",
     "output_type": "stream",
     "text": [
      "Mean Vector class 1: [0.40286533 5.2269341 ]\n",
      "\n",
      "Mean Vector class 2: [0.46193548 5.40129032]\n",
      "\n"
     ]
    }
   ],
   "source": [
    "mean_vectors = []\n",
    "for cl in range(1,3):\n",
    "    mean_vectors.append(np.mean(x[y==cl], axis=0))\n",
    "    print('Mean Vector class {0}: {1}\\n'.format(cl, mean_vectors[cl-1]))"
   ]
  },
  {
   "cell_type": "markdown",
   "id": "equipped-feedback",
   "metadata": {},
   "source": [
    "### Étape 2: Calcul des matrices de dispersion\n",
    "\n",
    "Calculer les deux matrices de dimension 4x4: La matrice de dispersion intra-classe et inter-classe."
   ]
  },
  {
   "cell_type": "code",
   "execution_count": 33,
   "id": "average-python",
   "metadata": {},
   "outputs": [
    {
     "name": "stdout",
     "output_type": "stream",
     "text": [
      "within-class Scatter Matrix:\n",
      " [[  612.41277013   -30.19660597]\n",
      " [  -30.19660597 12634.3328071 ]]\n",
      "between-class Scatter Matrix:\n",
      " [[  4.46893242  30.27088876]\n",
      " [ 30.27088876 252.12382589]]\n"
     ]
    }
   ],
   "source": [
    "# Matrice de dispersion INTRA-classe (à l'intérieur de la classe)\n",
    "\n",
    "S_W = np.zeros((2,2))\n",
    "for cl,mv in zip(range(1,3), mean_vectors):\n",
    "    class_sc_mat = np.zeros((2,2))                  # scatter matrix for every class\n",
    "    for row in x[y == cl]:\n",
    "        row, mv = row.reshape(2,1), mv.reshape(2,1) # make column vectors\n",
    "        class_sc_mat += (row-mv).dot((row-mv).T)\n",
    "    S_W += class_sc_mat                             # sum class scatter matrices\n",
    "print('within-class Scatter Matrix:\\n', S_W)\n",
    "\n",
    "\n",
    "# Matrice de dispersion entre les classes\n",
    "\n",
    "overall_mean = np.mean(x, axis=0)\n",
    "\n",
    "S_B = np.zeros((2,2))\n",
    "for i,mean_vec in enumerate(mean_vectors):  \n",
    "    n = x[y==i+1,:].shape[0]\n",
    "    mean_vec = mean_vec.reshape(2,1) # make column vector\n",
    "    overall_mean = overall_mean.reshape(2,1) # make column vector\n",
    "    S_B += n * (mean_vec - overall_mean).dot((mean_vec - overall_mean).T)\n",
    "\n",
    "print('between-class Scatter Matrix:\\n', S_B)"
   ]
  },
  {
   "cell_type": "markdown",
   "id": "global-couple",
   "metadata": {},
   "source": [
    "### Étape 3: Résoudre le problème généralisé des valeurs propres\n",
    "\n",
    "Calculer les vecteurs propres et les valeurs propres correspondantes pour les matrices de dispersion."
   ]
  },
  {
   "cell_type": "code",
   "execution_count": 34,
   "id": "equal-print",
   "metadata": {
    "scrolled": true
   },
   "outputs": [
    {
     "name": "stdout",
     "output_type": "stream",
     "text": [
      "\n",
      "Eigenvector 1: \n",
      "[[-0.99206747]\n",
      " [ 0.12570658]]\n",
      "Eigenvalue 1: 1.03e-03\n",
      "\n",
      "Eigenvector 2: \n",
      "[[-0.93546448]\n",
      " [-0.35342071]]\n",
      "Eigenvalue 2: 2.65e-02\n"
     ]
    }
   ],
   "source": [
    "eig_vals, eig_vecs = np.linalg.eig(np.linalg.inv(S_W).dot(S_B))\n",
    "\n",
    "for i in range(len(eig_vals)):\n",
    "    eigvec_sc = eig_vecs[:,i].reshape(2,1)   \n",
    "    print('\\nEigenvector {}: \\n{}'.format(i+1, eigvec_sc.real))\n",
    "    print('Eigenvalue {:}: {:.2e}'.format(i+1, eig_vals[i].real))"
   ]
  },
  {
   "cell_type": "code",
   "execution_count": 35,
   "id": "urban-ocean",
   "metadata": {},
   "outputs": [
    {
     "name": "stdout",
     "output_type": "stream",
     "text": [
      "ok\n"
     ]
    }
   ],
   "source": [
    "# Vérification du calcul du vecteur propre\n",
    "\n",
    "for i in range(len(eig_vals)):\n",
    "    eigv = eig_vecs[:,i].reshape(2,1)\n",
    "    np.testing.assert_array_almost_equal(np.linalg.inv(S_W).dot(S_B).dot(eigv),\n",
    "                                         eig_vals[i] * eigv,\n",
    "                                         decimal=6, err_msg='', verbose=True)\n",
    "print('ok')"
   ]
  },
  {
   "cell_type": "markdown",
   "id": "ready-faith",
   "metadata": {},
   "source": [
    "### Étape 4: Sélection des discriminants linéaires pour le nouvel sous-espace de fonctionnalités"
   ]
  },
  {
   "cell_type": "markdown",
   "id": "liquid-repeat",
   "metadata": {},
   "source": [
    "#### 4.1. Tri des vecteurs propres en diminuant les valeurs propres "
   ]
  },
  {
   "cell_type": "code",
   "execution_count": 36,
   "id": "broadband-sandwich",
   "metadata": {
    "scrolled": true
   },
   "outputs": [
    {
     "name": "stdout",
     "output_type": "stream",
     "text": [
      "Eigenvalues in decreasing order:\n",
      "\n",
      "0.026464608081111427\n",
      "0.0010276140080587096\n"
     ]
    }
   ],
   "source": [
    "# Faites une liste de tuples (valeur propre, vecteur propre)\n",
    "eig_pairs = [(np.abs(eig_vals[i]), eig_vecs[:,i]) for i in range(len(eig_vals))]\n",
    "\n",
    "# Trier les tuples (valeur propre, vecteur propre) de haut en bas\n",
    "eig_pairs = sorted(eig_pairs, key=lambda k: k[0], reverse=True)\n",
    "\n",
    "# Confirmer visuellement que la liste est correctement triée par diminution des valeurs propres\n",
    "\n",
    "print('Eigenvalues in decreasing order:\\n')\n",
    "for i in eig_pairs:\n",
    "    print(i[0])"
   ]
  },
  {
   "cell_type": "code",
   "execution_count": 37,
   "id": "extended-arctic",
   "metadata": {},
   "outputs": [
    {
     "name": "stdout",
     "output_type": "stream",
     "text": [
      "Variance explained:\n",
      "\n",
      "eigenvalue 1: 96.26%\n",
      "eigenvalue 2: 3.74%\n"
     ]
    }
   ],
   "source": [
    "print('Variance explained:\\n')\n",
    "eigv_sum = sum(eig_vals)\n",
    "for i,j in enumerate(eig_pairs):\n",
    "    print('eigenvalue {0:}: {1:.2%}'.format(i+1, (j[0]/eigv_sum).real))"
   ]
  },
  {
   "cell_type": "markdown",
   "id": "strange-counter",
   "metadata": {},
   "source": [
    "#### 4.2. Choisir k vecteurs propres avec les plus grandes valeurs propres"
   ]
  },
  {
   "cell_type": "code",
   "execution_count": 38,
   "id": "certified-reminder",
   "metadata": {
    "scrolled": true
   },
   "outputs": [
    {
     "name": "stdout",
     "output_type": "stream",
     "text": [
      "Matrix W:\n",
      " [[-0.93546448 -0.99206747]\n",
      " [-0.35342071  0.12570658]]\n"
     ]
    }
   ],
   "source": [
    "W = np.hstack((eig_pairs[0][1].reshape(2,1), eig_pairs[1][1].reshape(2,1)))\n",
    "print('Matrix W:\\n', W.real)"
   ]
  },
  {
   "cell_type": "markdown",
   "id": "conventional-castle",
   "metadata": {},
   "source": [
    "### Étape 5: Transformer les échantillons dans le nouveau sous-espace"
   ]
  },
  {
   "cell_type": "code",
   "execution_count": 39,
   "id": "headed-founder",
   "metadata": {},
   "outputs": [
    {
     "data": {
      "image/png": "[encoded data removed]",
      "text/plain": [
       "<Figure size 432x288 with 1 Axes>"
      ]
     },
     "metadata": {
      "needs_background": "light"
     },
     "output_type": "display_data"
    }
   ],
   "source": [
    "X_lda = x.dot(W)\n",
    "\n",
    "def plot_lda_by_step():\n",
    "\n",
    "    ax = plt.subplot(111)\n",
    "    for label,color in zip(\n",
    "        range(1,10),('yellow', 'orange', 'red', 'pink', 'green', 'blue','navy', 'purple', 'black')):\n",
    "\n",
    "        plt.scatter(x=X_lda[:,0].real[y == label],\n",
    "                y=X_lda[:,1].real[y == label],\n",
    "                color=color,\n",
    "                alpha=0.5,\n",
    "                label=label_dict[label]\n",
    "                )\n",
    "\n",
    "    plt.xlabel('LD1')\n",
    "    plt.ylabel('LD2')\n",
    "\n",
    "    leg = plt.legend(loc='upper right', fancybox=True)\n",
    "    leg.get_frame().set_alpha(0.5)\n",
    "    plt.title('LDA: Iris projection onto the first 2 linear discriminants')\n",
    "\n",
    "    # hide axis ticks\n",
    "    plt.tick_params(axis=\"both\", which=\"both\", bottom=\"off\", top=\"off\",  \n",
    "            labelbottom=\"on\", left=\"off\", right=\"off\", labelleft=\"on\")\n",
    "\n",
    "    # remove axis spines\n",
    "    ax.spines[\"top\"].set_visible(False)  \n",
    "    ax.spines[\"right\"].set_visible(False)\n",
    "    ax.spines[\"bottom\"].set_visible(False)\n",
    "    ax.spines[\"left\"].set_visible(False)    \n",
    "\n",
    "    plt.grid()\n",
    "    plt.tight_layout\n",
    "    plt.show()\n",
    "\n",
    "plot_lda_by_step()"
   ]
  },
  {
   "cell_type": "markdown",
   "id": "threaded-damages",
   "metadata": {},
   "source": [
    "## Apprentissage non supervisé "
   ]
  },
  {
   "cell_type": "markdown",
   "id": "scientific-majority",
   "metadata": {},
   "source": [
    "### ACP"
   ]
  },
  {
   "cell_type": "code",
   "execution_count": 40,
   "id": "average-stress",
   "metadata": {},
   "outputs": [],
   "source": [
    "income_ = income_final[['INCOME','SEX']]"
   ]
  },
  {
   "cell_type": "code",
   "execution_count": 47,
   "id": "excess-leonard",
   "metadata": {},
   "outputs": [
    {
     "name": "stderr",
     "output_type": "stream",
     "text": [
      "<ipython-input-47-06565ca266a1>:16: SettingWithCopyWarning: \n",
      "A value is trying to be set on a copy of a slice from a DataFrame.\n",
      "Try using .loc[row_indexer,col_indexer] = value instead\n",
      "\n",
      "See the caveats in the documentation: https://pandas.pydata.org/pandas-docs/stable/user_guide/indexing.html#returning-a-view-versus-a-copy\n",
      "  income_['PCA1'] = X_2D[:, 0]\n",
      "<ipython-input-47-06565ca266a1>:17: SettingWithCopyWarning: \n",
      "A value is trying to be set on a copy of a slice from a DataFrame.\n",
      "Try using .loc[row_indexer,col_indexer] = value instead\n",
      "\n",
      "See the caveats in the documentation: https://pandas.pydata.org/pandas-docs/stable/user_guide/indexing.html#returning-a-view-versus-a-copy\n",
      "  income_['PCA2'] = X_2D[:, 1]\n"
     ]
    }
   ],
   "source": [
    "#Ce code fonctionne une fois sur deux et je ne sais pourquoi\n",
    "#Il me dit d'essayer d'utiliser .loc, mais .loc ne fonctionne pas\n",
    "\n",
    "X_inc = income_.drop('SEX', axis=1)\n",
    "y_inc = income_['SEX']\n",
    "\n",
    "# étape 1\n",
    "from sklearn.decomposition import PCA\n",
    "\n",
    "# étape 2\n",
    "model = PCA(n_components=2)\n",
    "\n",
    "# étape 4\n",
    "model.fit(X_inc)\n",
    "\n",
    "# étape 5\n",
    "X_2D = model.transform(X_inc)\n",
    "\n",
    "income_['PCA1'] = X_2D[:, 0]\n",
    "income_['PCA2'] = X_2D[:, 1]"
   ]
  },
  {
   "cell_type": "code",
   "execution_count": 48,
   "id": "speaking-cathedral",
   "metadata": {},
   "outputs": [
    {
     "data": {
      "text/plain": [
       "<seaborn.axisgrid.FacetGrid at 0x1fd1822c4c0>"
      ]
     },
     "execution_count": 48,
     "metadata": {},
     "output_type": "execute_result"
    },
    {
     "data": {
      "image/png": "[encoded data removed]",
      "text/plain": [
       "<Figure size 402.375x360 with 1 Axes>"
      ]
     },
     "metadata": {
      "needs_background": "light"
     },
     "output_type": "display_data"
    }
   ],
   "source": [
    "sns.lmplot(x = \"PCA1\", y = \"PCA2\", hue='SEX', data=income_, fit_reg=False)"
   ]
  },
  {
   "cell_type": "markdown",
   "id": "focused-forwarding",
   "metadata": {},
   "source": [
    "Le code suivant pour l'ACP a été fait à partir d'une vidéo de StatQuest : https://www.youtube.com/watch?v=Lsue2gEM9D0&ab_channel=StatQuestwithJoshStarmer"
   ]
  },
  {
   "cell_type": "code",
   "execution_count": 49,
   "id": "initial-catalyst",
   "metadata": {
    "scrolled": true
   },
   "outputs": [],
   "source": [
    "sex = income_final['SEX'].values\n",
    "ethn = income_final['ETH'].values\n",
    "income_sex_eth = pd.DataFrame(columns = ['SEX','ETH'], index=income_final['INCOME'])\n",
    "income_sex_eth['SEX'] = sex\n",
    "income_sex_eth['ETH'] = ethn"
   ]
  },
  {
   "cell_type": "code",
   "execution_count": 50,
   "id": "controlled-advocate",
   "metadata": {
    "scrolled": true
   },
   "outputs": [
    {
     "data": {
      "image/png": "[encoded data removed]",
      "text/plain": [
       "<Figure size 432x288 with 1 Axes>"
      ]
     },
     "metadata": {
      "needs_background": "light"
     },
     "output_type": "display_data"
    }
   ],
   "source": [
    "data = preprocessing.scale(income_sex_eth)\n",
    "pca = PCA()\n",
    "pca.fit(data)\n",
    "pca_data = pca.transform(data)\n",
    "\n",
    "per_var = np.round(pca.explained_variance_ratio_* 100, decimals=1)\n",
    "labels = ['SEX','ETH']\n",
    "\n",
    "plt.bar(x=range(1,len(per_var)+1), height=per_var, tick_label=labels)\n",
    "plt.ylabel('Pourcentage de la variance expliquée')\n",
    "plt.xlabel('Composante principale')\n",
    "plt.title('Composantes')\n",
    "plt.show()"
   ]
  },
  {
   "cell_type": "code",
   "execution_count": 51,
   "id": "centered-investor",
   "metadata": {},
   "outputs": [
    {
     "name": "stdout",
     "output_type": "stream",
     "text": [
      "51.7\n",
      "48.3\n"
     ]
    }
   ],
   "source": [
    "print(per_var[0])\n",
    "print(per_var[1])"
   ]
  },
  {
   "cell_type": "markdown",
   "id": "applied-first",
   "metadata": {},
   "source": [
    "On voit que les composantes expliquent à peu près la même variance de la variable salaire, mais que la variable sex est un petit peu meilleure."
   ]
  },
  {
   "cell_type": "markdown",
   "id": "twenty-settlement",
   "metadata": {},
   "source": [
    "## Rapport\n",
    "\n",
    "### Résultats\n",
    "\n",
    "Comme on s'y attendait, les résultats des deux hypothèses sont significatifs. On peut donc affirmer que le sexe (t=-3.5, p<0.001) et la classe ethnique (F=5.59, p<0.001) influencent le salaire de façon significative. \n",
    "\n",
    "### Durée nécessaire au projet\n",
    "\n",
    "Heureusement, le projet a pris beaucoup moins de temps que prévu. En tout, une quinzaine d'heures ont été nécessaires pour faire fonctionner le code. Ces heures ont été réparties sur trois jours. Évidemment, ce temps ne prend pas en considération le temps qui a été mis sur le cours, les exercices et l'étude du code de façon hebdomadaire suite au cours. \n",
    "\n",
    "### Approche personnelle quant au projet\n",
    "\n",
    "La motivation connait des hauts et des bas. Le fait de ne pas avoir pu travailler sur le travail pendant plusieurs semaines a causé beaucoup de stress. J'ai finalement pu travailler sur le projet en fin de session, ce qui est toujours plus difficile au niveau du temps et de la motivation. J'ai donc dû retrouver la motivation initiale que j'avais face au projet. Au final, je trouve que la programmation peut être très valorisante et j'ai apprécié faire ce projet. \n",
    "\n",
    "### Retour sur les hypothèses\n",
    "\n",
    "Les résultats permettent de confirmer les hypothèses selon lesquelles le sexe et la classe ethnique influencent le salaire. Ces résultats sont cohérents avec la réalité de la société dans laquelle nous évoluons. Les données seront comme prévues transmises aux gestionnaires du site payscale qui pourront les mettre à jour et continuer leur visée de sensibilisation quant aux inégalités relatives au salaire. \n",
    "\n",
    "### Défis avec le projet\n",
    "\n",
    "Un des défis avec le projet a été de perdre le code réalisé pour le plan de travail et les problèmes rencontrés avec mon ordinateur. Je n'ai pas pu travaillé sur le projet pendant plusieurs semaines, puis j'ai rencontré un problème au niveau de l'installation de Scikit Learn. J'ai donc eu beaucoup moins de temps que prévu pour la réalisation du projet. Heureusement, le défi attendu concernant l'encodage des valeurs n'a pas été rencontré puisque cette notion a été apprise dans le cadre du cours. Il n'y a donc pas vraiment eu de défis pour l'accomplissement du projet en tant que tel, mais plutôt des problèmes techniques avec l'ordinateur utilisé pour le faire.  "
   ]
  }
 ],
 "metadata": {
  "kernelspec": {
   "display_name": "Python 3",
   "language": "python",
   "name": "python3"
  },
  "language_info": {
   "codemirror_mode": {
    "name": "ipython",
    "version": 3
   },
   "file_extension": ".py",
   "mimetype": "text/x-python",
   "name": "python",
   "nbconvert_exporter": "python",
   "pygments_lexer": "ipython3",
   "version": "3.9.4"
  }
 },
 "nbformat": 4,
 "nbformat_minor": 5
}
